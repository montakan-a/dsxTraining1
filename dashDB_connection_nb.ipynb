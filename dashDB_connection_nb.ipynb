{
    "metadata": {
        "kernelspec": {
            "language": "python", 
            "display_name": "Python 2 with Spark 2.1", 
            "name": "python2-spark21"
        }, 
        "language_info": {
            "nbconvert_exporter": "python", 
            "name": "python", 
            "pygments_lexer": "ipython2", 
            "version": "2.7.11", 
            "file_extension": ".py", 
            "codemirror_mode": {
                "version": 2, 
                "name": "ipython"
            }, 
            "mimetype": "text/x-python"
        }
    }, 
    "nbformat": 4, 
    "cells": [
        {
            "execution_count": 17, 
            "metadata": {
                "collapsed": true
            }, 
            "cell_type": "code", 
            "outputs": [], 
            "source": "%matplotlib inline"
        }, 
        {
            "execution_count": 3, 
            "metadata": {}, 
            "cell_type": "code", 
            "outputs": [
                {
                    "execution_count": 3, 
                    "metadata": {}, 
                    "data": {
                        "text/html": "<div>\n<table border=\"1\" class=\"dataframe\">\n  <thead>\n    <tr style=\"text-align: right;\">\n      <th></th>\n      <th>\u4f43\u314c</th>\n      <th>\u4f43\u324c</th>\n    </tr>\n  </thead>\n  <tbody>\n  </tbody>\n</table>\n</div>", 
                        "text/plain": "Empty DataFrame\nColumns: [\u4f43\u314c, \u4f43\u324c]\nIndex: []"
                    }, 
                    "output_type": "execute_result"
                }
            ], 
            "source": "# The code was removed by DSX for sharing."
        }, 
        {
            "execution_count": 4, 
            "metadata": {}, 
            "cell_type": "code", 
            "outputs": [
                {
                    "execution_count": 4, 
                    "metadata": {}, 
                    "data": {
                        "text/html": "<div>\n<table border=\"1\" class=\"dataframe\">\n  <thead>\n    <tr style=\"text-align: right;\">\n      <th></th>\n      <th>COL1</th>\n      <th>COL2</th>\n    </tr>\n  </thead>\n  <tbody>\n  </tbody>\n</table>\n</div>", 
                        "text/plain": "Empty DataFrame\nColumns: [COL1, COL2]\nIndex: []"
                    }, 
                    "output_type": "execute_result"
                }
            ], 
            "source": "# The code was removed by DSX for sharing."
        }, 
        {
            "execution_count": 5, 
            "metadata": {
                "collapsed": true
            }, 
            "cell_type": "code", 
            "outputs": [], 
            "source": "import ibmdbpy\nfrom ibmdbpy import IdaDataBase, IdaDataFrame\n\nimport pandas as pd\nimport numpy as np"
        }, 
        {
            "execution_count": 7, 
            "metadata": {}, 
            "cell_type": "code", 
            "outputs": [
                {
                    "execution_count": 7, 
                    "metadata": {}, 
                    "data": {
                        "text/html": "<div>\n<table border=\"1\" class=\"dataframe\">\n  <thead>\n    <tr style=\"text-align: right;\">\n      <th></th>\n      <th>a</th>\n      <th>b</th>\n      <th>c</th>\n    </tr>\n  </thead>\n  <tbody>\n    <tr>\n      <th>0</th>\n      <td>0.268231</td>\n      <td>0.496298</td>\n      <td>0.779601</td>\n    </tr>\n    <tr>\n      <th>1</th>\n      <td>0.974946</td>\n      <td>0.870347</td>\n      <td>0.065612</td>\n    </tr>\n    <tr>\n      <th>2</th>\n      <td>0.549752</td>\n      <td>0.266085</td>\n      <td>0.806720</td>\n    </tr>\n    <tr>\n      <th>3</th>\n      <td>0.736654</td>\n      <td>0.764923</td>\n      <td>0.631301</td>\n    </tr>\n    <tr>\n      <th>4</th>\n      <td>0.756791</td>\n      <td>0.483262</td>\n      <td>0.362875</td>\n    </tr>\n  </tbody>\n</table>\n</div>", 
                        "text/plain": "          a         b         c\n0  0.268231  0.496298  0.779601\n1  0.974946  0.870347  0.065612\n2  0.549752  0.266085  0.806720\n3  0.736654  0.764923  0.631301\n4  0.756791  0.483262  0.362875"
                    }, 
                    "output_type": "execute_result"
                }
            ], 
            "source": "random_data=pd.DataFrame(np.random.random((1000,3)), columns=['a','b','c'])\nrandom_data.head()"
        }, 
        {
            "execution_count": 27, 
            "metadata": {}, 
            "cell_type": "code", 
            "outputs": [
                {
                    "output_type": "stream", 
                    "name": "stdout", 
                    "text": "Uploading 1000 rows (maxnrow was set to 2666)\n"
                }, 
                {
                    "execution_count": 27, 
                    "metadata": {}, 
                    "data": {
                        "text/plain": "<ibmdbpy.frame.IdaDataFrame at 0x7f98e21b8ed0>"
                    }, 
                    "output_type": "execute_result"
                }
            ], 
            "source": "idadb_675fe06ce47a464a95dd88c72fddf000.as_idadataframe(random_data,\"random_data\",clear_existing=True)"
        }, 
        {
            "execution_count": 29, 
            "metadata": {}, 
            "cell_type": "code", 
            "outputs": [
                {
                    "execution_count": 29, 
                    "metadata": {}, 
                    "data": {
                        "text/html": "<div>\n<table border=\"1\" class=\"dataframe\">\n  <thead>\n    <tr style=\"text-align: right;\">\n      <th></th>\n      <th>a</th>\n      <th>b</th>\n      <th>c</th>\n    </tr>\n  </thead>\n  <tbody>\n    <tr>\n      <th>0</th>\n      <td>0.268231</td>\n      <td>0.496298</td>\n      <td>0.779601</td>\n    </tr>\n    <tr>\n      <th>1</th>\n      <td>0.974946</td>\n      <td>0.870347</td>\n      <td>0.065612</td>\n    </tr>\n    <tr>\n      <th>2</th>\n      <td>0.549752</td>\n      <td>0.266085</td>\n      <td>0.806720</td>\n    </tr>\n    <tr>\n      <th>3</th>\n      <td>0.736654</td>\n      <td>0.764923</td>\n      <td>0.631301</td>\n    </tr>\n    <tr>\n      <th>4</th>\n      <td>0.756791</td>\n      <td>0.483262</td>\n      <td>0.362875</td>\n    </tr>\n  </tbody>\n</table>\n</div>", 
                        "text/plain": "          a         b         c\n0  0.268231  0.496298  0.779601\n1  0.974946  0.870347  0.065612\n2  0.549752  0.266085  0.806720\n3  0.736654  0.764923  0.631301\n4  0.756791  0.483262  0.362875"
                    }, 
                    "output_type": "execute_result"
                }
            ], 
            "source": "# The code was removed by DSX for sharing."
        }, 
        {
            "execution_count": 13, 
            "metadata": {
                "scrolled": false
            }, 
            "cell_type": "code", 
            "outputs": [
                {
                    "output_type": "stream", 
                    "name": "stdout", 
                    "text": "Collecting seaborn\n  Downloading seaborn-0.7.1.tar.gz (158kB)\n\u001b[K    100% |\u2588\u2588\u2588\u2588\u2588\u2588\u2588\u2588\u2588\u2588\u2588\u2588\u2588\u2588\u2588\u2588\u2588\u2588\u2588\u2588\u2588\u2588\u2588\u2588\u2588\u2588\u2588\u2588\u2588\u2588\u2588\u2588| 163kB 4.2MB/s eta 0:00:01\n\u001b[?25hBuilding wheels for collected packages: seaborn\n  Running setup.py bdist_wheel for seaborn ... \u001b[?25ldone\n\u001b[?25h  Stored in directory: /gpfs/fs01/user/s5ce-02ae94a72f1677-0927c162b0db/.cache/pip/wheels/cb/c8/67/83d615c0ef9b529558525aa521025b183de8c5b156799b091e\nSuccessfully built seaborn\nInstalling collected packages: seaborn\nSuccessfully installed seaborn-0.7.1\n"
                }
            ], 
            "source": "!pip install seaborn"
        }, 
        {
            "execution_count": 20, 
            "metadata": {}, 
            "cell_type": "code", 
            "outputs": [
                {
                    "output_type": "stream", 
                    "name": "stdout", 
                    "text": "HELLO\r\n"
                }
            ], 
            "source": "!echo \"HELLO\""
        }, 
        {
            "execution_count": 18, 
            "metadata": {}, 
            "cell_type": "code", 
            "outputs": [
                {
                    "execution_count": 18, 
                    "metadata": {}, 
                    "data": {
                        "text/plain": "<matplotlib.axes._subplots.AxesSubplot at 0x7f98e223b190>"
                    }, 
                    "output_type": "execute_result"
                }, 
                {
                    "metadata": {}, 
                    "output_type": "display_data", 
                    "data": {
                        "text/plain": "<matplotlib.figure.Figure at 0x7f98e2337110>", 
                        "image/png": "[encoded data removed]"
                    }
                }
            ], 
            "source": "import seaborn as sns\n\nsns.distplot(data_df_2['a'])"
        }, 
        {
            "execution_count": null, 
            "metadata": {
                "collapsed": true
            }, 
            "cell_type": "code", 
            "outputs": [], 
            "source": ""
        }
    ], 
    "nbformat_minor": 1
}